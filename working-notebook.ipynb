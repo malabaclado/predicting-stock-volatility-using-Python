{
 "cells": [
  {
   "cell_type": "code",
   "execution_count": 1,
   "metadata": {},
   "outputs": [],
   "source": [
    "# Install dependencies\n",
    "\n",
    "%load_ext autoreload\n",
    "%autoreload 2\n",
    "\n",
    "import os\n",
    "import sqlite3\n",
    "from glob import glob\n",
    "\n",
    "import pandas as pd\n",
    "import requests\n",
    "from config import settings\n",
    "from data import SQLRepository, AlphaVantageAPI"
   ]
  },
  {
   "cell_type": "code",
   "execution_count": 2,
   "metadata": {},
   "outputs": [],
   "source": [
    "connection = sqlite3.connect(database=settings.db_name, check_same_thread=False)\n",
    "repo = SQLRepository(connection)"
   ]
  },
  {
   "cell_type": "code",
   "execution_count": 3,
   "metadata": {},
   "outputs": [
    {
     "name": "stdout",
     "output_type": "stream",
     "text": [
      "Tables in database: [('MTNOY',), ('FDS',)]\n"
     ]
    }
   ],
   "source": [
    "# Get table names \n",
    "cursor = connection.cursor()\n",
    "cursor.execute(\"SELECT name FROM sqlite_master WHERE type='table';\")\n",
    "tables = cursor.fetchall()\n",
    "\n",
    "print(\"Tables in database:\", tables)"
   ]
  },
  {
   "cell_type": "code",
   "execution_count": 6,
   "metadata": {},
   "outputs": [
    {
     "name": "stdout",
     "output_type": "stream",
     "text": [
      "Columns in MTNOY:\n",
      "(0, 'date', 'TIMESTAMP', 0, None, 0)\n",
      "(1, 'open', 'REAL', 0, None, 0)\n",
      "(2, 'high', 'REAL', 0, None, 0)\n",
      "(3, 'low', 'REAL', 0, None, 0)\n",
      "(4, 'close', 'REAL', 0, None, 0)\n",
      "(5, 'volume', 'REAL', 0, None, 0)\n"
     ]
    }
   ],
   "source": [
    "# Get columns of a table\n",
    "ticker=\"MTNOY\"\n",
    "cursor.execute(f\"PRAGMA table_info({ticker});\")\n",
    "columns = cursor.fetchall()\n",
    "\n",
    "print(f\"Columns in {ticker}:\")\n",
    "for col in columns:\n",
    "    print(col)\n"
   ]
  },
  {
   "cell_type": "code",
   "execution_count": 8,
   "metadata": {},
   "outputs": [
    {
     "name": "stdout",
     "output_type": "stream",
     "text": [
      "[('2025-03-28 00:00:00', 450.0, 452.08, 445.1309, 448.76, 312797.0), ('2025-03-27 00:00:00', 442.74, 451.12, 442.205, 449.23, 287525.0), ('2025-03-26 00:00:00', 441.43, 442.99, 438.54, 441.24, 244285.0), ('2025-03-25 00:00:00', 435.52, 440.76, 433.115, 439.4, 266005.0), ('2025-03-24 00:00:00', 435.59, 440.57, 431.48, 432.11, 340045.0)]\n"
     ]
    }
   ],
   "source": [
    "# Execute a SQL query\n",
    "ticker=\"FDS\"\n",
    "query=f\"SELECT * FROM {ticker} LIMIT 5\"\n",
    "\n",
    "\n",
    "cursor.execute(query)\n",
    "results = cursor.fetchall()\n",
    "\n",
    "print(results)\n"
   ]
  },
  {
   "cell_type": "code",
   "execution_count": null,
   "metadata": {},
   "outputs": [],
   "source": [
    "from model import GarchModel\n",
    "ticker=\"FDS\"\n",
    "model = GarchModel(ticker, repo, use_new_data=False)\n"
   ]
  },
  {
   "cell_type": "code",
   "execution_count": null,
   "metadata": {},
   "outputs": [
    {
     "data": {
      "text/plain": [
       "'models'"
      ]
     },
     "execution_count": 13,
     "metadata": {},
     "output_type": "execute_result"
    }
   ],
   "source": [
    "model.model_directory"
   ]
  },
  {
   "cell_type": "code",
   "execution_count": null,
   "metadata": {},
   "outputs": [],
   "source": [
    "import joblib\n",
    "filepath = os.path.join(model.model_directory, f\"some.txt\")\n",
    "joblib.dump(\"some text\", filepath)"
   ]
  }
 ],
 "metadata": {
  "kernelspec": {
   "display_name": "portfolio-venv",
   "language": "python",
   "name": "python3"
  },
  "language_info": {
   "codemirror_mode": {
    "name": "ipython",
    "version": 3
   },
   "file_extension": ".py",
   "mimetype": "text/x-python",
   "name": "python",
   "nbconvert_exporter": "python",
   "pygments_lexer": "ipython3",
   "version": "3.10.16"
  }
 },
 "nbformat": 4,
 "nbformat_minor": 2
}

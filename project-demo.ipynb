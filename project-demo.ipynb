{
 "cells": [
  {
   "cell_type": "markdown",
   "metadata": {},
   "source": [
    "# Project Demo"
   ]
  },
  {
   "cell_type": "markdown",
   "metadata": {},
   "source": [
    "*[Write introduction to the project]*"
   ]
  },
  {
   "cell_type": "markdown",
   "metadata": {},
   "source": [
    "Run program by running the following code on the terminal: \n",
    "\n",
    "`uvicorn main:app --reload --workers 1 --host localhost --port 8008`"
   ]
  },
  {
   "cell_type": "markdown",
   "metadata": {},
   "source": [
    "## `POST/fit`: Create an ARCH model and fit the data\n",
    "\n",
    "The following code runs a POST request. This trains an ARCH model and save it in the /models folder.\n",
    "\n",
    "Parameters:\n",
    "- `ticker`: a stock ticker\n",
    "- `n_observations`: the number of past observations to train the model\n",
    "- `p`,`q`: parameters of the ARCH model"
   ]
  },
  {
   "cell_type": "code",
   "execution_count": 21,
   "metadata": {},
   "outputs": [],
   "source": [
    "# Set parameters\n",
    "ticker=\"MTNOY\"\n",
    "n_observations=2500\n",
    "p=3\n",
    "q=1"
   ]
  },
  {
   "cell_type": "code",
   "execution_count": 22,
   "metadata": {},
   "outputs": [
    {
     "name": "stdout",
     "output_type": "stream",
     "text": [
      "200\n"
     ]
    }
   ],
   "source": [
    "# Call fit endpoint\n",
    "url = \"http://localhost:8008/fit\"\n",
    "json = {\n",
    "    \"ticker\":ticker,\n",
    "    \"n_observations\":n_observations,\n",
    "    \"p\":p,\n",
    "    \"q\":q\n",
    "}\n",
    "\n",
    "response = requests.post(url=url, json=json)\n",
    "print(response.status_code)"
   ]
  },
  {
   "cell_type": "code",
   "execution_count": 20,
   "metadata": {},
   "outputs": [
    {
     "data": {
      "text/plain": [
       "{'ticker': 'MTNOY',\n",
       " 'n_observations': 2500,\n",
       " 'p': 3,\n",
       " 'q': 1,\n",
       " 'success': True,\n",
       " 'message': \"Trained and saved 'models\\\\2025-05-07T16-06-19.385606-ARCH31_MTNOY.pkl'. Metrics: AIC 9901.722499915388, BIC 9935.32791467264.\"}"
      ]
     },
     "execution_count": 20,
     "metadata": {},
     "output_type": "execute_result"
    }
   ],
   "source": [
    "response.json()"
   ]
  },
  {
   "cell_type": "markdown",
   "metadata": {},
   "source": [
    "# POST/predict \n",
    "\n",
    "Gets predictions from the model.\n",
    "\n",
    "Parameters:\n",
    "- ticker: a stock ticker\n",
    "- n_days: number of days to predict\n",
    "- use_model: which model to use (\"latest\" for the latest model in the /models folder)"
   ]
  },
  {
   "cell_type": "code",
   "execution_count": null,
   "metadata": {},
   "outputs": [],
   "source": [
    "# Set parameters\n",
    "ticker=\"MTNOY\"\n",
    "n_days=20\n",
    "use_model = \"latest\""
   ]
  },
  {
   "cell_type": "code",
   "execution_count": null,
   "metadata": {},
   "outputs": [
    {
     "name": "stdout",
     "output_type": "stream",
     "text": [
      "200\n"
     ]
    }
   ],
   "source": [
    "# Call predict API\n",
    "url = \"http://localhost:8008/predict\"\n",
    "json = {\n",
    "    \"ticker\":ticker,\n",
    "    \"n_days\": n_days,\n",
    "    \"use_model\": use_model\n",
    "}\n",
    "\n",
    "response = requests.post(url=url, json=json)\n",
    "print(response.status_code)"
   ]
  },
  {
   "cell_type": "code",
   "execution_count": null,
   "metadata": {},
   "outputs": [
    {
     "data": {
      "text/plain": [
       "{'ticker': 'MTNOY',\n",
       " 'n_days': 20,\n",
       " 'use_model': 'latest',\n",
       " 'success': True,\n",
       " 'forecast': {'2023-04-18T00:00:00': 2.5503659900100137,\n",
       "  '2023-04-19T00:00:00': 2.568940505172743,\n",
       "  '2023-04-20T00:00:00': 2.586781498169194,\n",
       "  '2023-04-21T00:00:00': 2.60392352020055,\n",
       "  '2023-04-24T00:00:00': 2.620399008863531,\n",
       "  '2023-04-25T00:00:00': 2.636238460647659,\n",
       "  '2023-04-26T00:00:00': 2.6514705861586445,\n",
       "  '2023-04-27T00:00:00': 2.6661224491937334,\n",
       "  '2023-04-28T00:00:00': 2.680219591845332,\n",
       "  '2023-05-01T00:00:00': 2.69378614734618,\n",
       "  '2023-05-02T00:00:00': 2.706844942123938,\n",
       "  '2023-05-03T00:00:00': 2.7194175883274885,\n",
       "  '2023-05-04T00:00:00': 2.7315245679144264,\n",
       "  '2023-05-05T00:00:00': 2.743185309243246,\n",
       "  '2023-05-08T00:00:00': 2.7544182569900295,\n",
       "  '2023-05-09T00:00:00': 2.7652409361041936,\n",
       "  '2023-05-10T00:00:00': 2.77567001042797,\n",
       "  '2023-05-11T00:00:00': 2.7857213365273266,\n",
       "  '2023-05-12T00:00:00': 2.7954100132158657,\n",
       "  '2023-05-15T00:00:00': 2.804750427196181},\n",
       " 'message': ''}"
      ]
     },
     "execution_count": 52,
     "metadata": {},
     "output_type": "execute_result"
    }
   ],
   "source": [
    "response.json()"
   ]
  }
 ],
 "metadata": {
  "kernelspec": {
   "display_name": "portfolio-venv",
   "language": "python",
   "name": "python3"
  },
  "language_info": {
   "codemirror_mode": {
    "name": "ipython",
    "version": 3
   },
   "file_extension": ".py",
   "mimetype": "text/x-python",
   "name": "python",
   "nbconvert_exporter": "python",
   "pygments_lexer": "ipython3",
   "version": "3.10.16"
  }
 },
 "nbformat": 4,
 "nbformat_minor": 2
}

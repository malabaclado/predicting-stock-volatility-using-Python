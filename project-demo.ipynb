{
 "cells": [
  {
   "cell_type": "markdown",
   "metadata": {},
   "source": [
    "# Project Demo"
   ]
  },
  {
   "cell_type": "markdown",
   "metadata": {},
   "source": [
    "*[Write introduction to the project]*"
   ]
  },
  {
   "cell_type": "markdown",
   "metadata": {},
   "source": [
    "# How to run the program\n",
    "1. Install conda\n",
    "2. conda env create --file environment.yaml\n",
    "3. Run on command line: `uvicorn main:app --reload --workers 1 --host localhost --port 8008`\n",
    "4. Run any of the commands below."
   ]
  },
  {
   "cell_type": "markdown",
   "metadata": {},
   "source": [
    "## `POST/fit`: Create an ARCH model and fit the data\n",
    "\n",
    "The following code runs a POST request. This trains an ARCH model and save it in the /models folder.\n",
    "\n",
    "Parameters:\n",
    "- `ticker`: a stock ticker\n",
    "- `n_observations`: the number of past observations to train the model\n",
    "- `p`,`q`: parameters of the ARCH model"
   ]
  },
  {
   "cell_type": "code",
   "execution_count": 3,
   "metadata": {},
   "outputs": [],
   "source": [
    "import requests"
   ]
  },
  {
   "cell_type": "code",
   "execution_count": 4,
   "metadata": {},
   "outputs": [
    {
     "name": "stdout",
     "output_type": "stream",
     "text": [
      "200\n"
     ]
    }
   ],
   "source": [
    "# Set parameters\n",
    "ticker=\"MTNOY\"\n",
    "n_observations=2500\n",
    "p=3\n",
    "q=1\n",
    "\n",
    "# Call fit endpoint\n",
    "url = \"http://localhost:8008/fit\"\n",
    "json = {\n",
    "    \"ticker\":ticker,\n",
    "    \"n_observations\":n_observations,\n",
    "    \"p\":p,\n",
    "    \"q\":q\n",
    "}\n",
    "\n",
    "response = requests.post(url=url, json=json)\n",
    "print(response.status_code)"
   ]
  },
  {
   "cell_type": "code",
   "execution_count": 5,
   "metadata": {},
   "outputs": [
    {
     "data": {
      "text/plain": [
       "{'ticker': 'MTNOY',\n",
       " 'n_observations': 2500,\n",
       " 'p': 3,\n",
       " 'q': 1,\n",
       " 'success': True,\n",
       " 'message': \"Trained and saved 'models\\\\2025-09-09T15-40-58.148031-ARCH31_MTNOY.pkl'. Metrics: AIC 9895.361316315586, BIC 9928.966731072838.\"}"
      ]
     },
     "execution_count": 5,
     "metadata": {},
     "output_type": "execute_result"
    }
   ],
   "source": [
    "response.json()"
   ]
  },
  {
   "cell_type": "markdown",
   "metadata": {},
   "source": [
    "# POST/predict \n",
    "\n",
    "Gets predictions from the model.\n",
    "\n",
    "Parameters:\n",
    "- ticker: a stock ticker\n",
    "- n_days: number of days to predict\n",
    "- use_model: which model to use (\"latest\" for the latest model in the /models folder)"
   ]
  },
  {
   "cell_type": "code",
   "execution_count": 6,
   "metadata": {},
   "outputs": [
    {
     "name": "stdout",
     "output_type": "stream",
     "text": [
      "200\n"
     ]
    }
   ],
   "source": [
    "# Set parameters\n",
    "ticker=\"MTNOY\"\n",
    "n_days=20\n",
    "use_model = \"latest\"\n",
    "\n",
    "# Call predict API\n",
    "url = \"http://localhost:8008/predict\"\n",
    "json = {\n",
    "    \"ticker\":ticker,\n",
    "    \"n_days\": n_days,\n",
    "    \"use_model\": use_model\n",
    "}\n",
    "\n",
    "response = requests.post(url=url, json=json)\n",
    "print(response.status_code)"
   ]
  },
  {
   "cell_type": "code",
   "execution_count": 7,
   "metadata": {},
   "outputs": [
    {
     "data": {
      "text/plain": [
       "{'ticker': 'MTNOY',\n",
       " 'n_days': 20,\n",
       " 'use_model': 'latest',\n",
       " 'success': True,\n",
       " 'forecast': {'2023-09-11T00:00:00': 2.420952310004812,\n",
       "  '2023-09-12T00:00:00': 2.44342149905873,\n",
       "  '2023-09-13T00:00:00': 2.4649664904541893,\n",
       "  '2023-09-14T00:00:00': 2.4856344764141203,\n",
       "  '2023-09-15T00:00:00': 2.505469391354207,\n",
       "  '2023-09-18T00:00:00': 2.5245122184063375,\n",
       "  '2023-09-19T00:00:00': 2.5428012587853823,\n",
       "  '2023-09-20T00:00:00': 2.5603723695204135,\n",
       "  '2023-09-21T00:00:00': 2.5772591740380433,\n",
       "  '2023-09-22T00:00:00': 2.593493249358153,\n",
       "  '2023-09-25T00:00:00': 2.6091042930568555,\n",
       "  '2023-09-26T00:00:00': 2.62412027265632,\n",
       "  '2023-09-27T00:00:00': 2.638567559693833,\n",
       "  '2023-09-28T00:00:00': 2.652471050385853,\n",
       "  '2023-09-29T00:00:00': 2.665854274523209,\n",
       "  '2023-10-02T00:00:00': 2.6787394940002707,\n",
       "  '2023-10-03T00:00:00': 2.6911477921853693,\n",
       "  '2023-10-04T00:00:00': 2.7030991551751513,\n",
       "  '2023-10-05T00:00:00': 2.7146125458364683,\n",
       "  '2023-10-06T00:00:00': 2.725705971421407},\n",
       " 'message': ''}"
      ]
     },
     "execution_count": 7,
     "metadata": {},
     "output_type": "execute_result"
    }
   ],
   "source": [
    "response.json()"
   ]
  }
 ],
 "metadata": {
  "kernelspec": {
   "display_name": "my-env",
   "language": "python",
   "name": "python3"
  },
  "language_info": {
   "codemirror_mode": {
    "name": "ipython",
    "version": 3
   },
   "file_extension": ".py",
   "mimetype": "text/x-python",
   "name": "python",
   "nbconvert_exporter": "python",
   "pygments_lexer": "ipython3",
   "version": "3.9.6"
  }
 },
 "nbformat": 4,
 "nbformat_minor": 2
}

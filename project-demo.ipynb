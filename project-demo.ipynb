{
 "cells": [
  {
   "cell_type": "markdown",
   "metadata": {},
   "source": [
    "# Project Demo"
   ]
  },
  {
   "cell_type": "markdown",
   "metadata": {},
   "source": [
    "*[Write introduction to the project]*"
   ]
  },
  {
   "cell_type": "markdown",
   "metadata": {},
   "source": [
    "# How to run the program\n",
    "1. Install conda\n",
    "2. conda env create --file environment.yaml\n",
    "3. Run on command line: `uvicorn app.main:app --reload --workers 1 --host localhost --port 8008`\n",
    "4. Run any of the commands below."
   ]
  },
  {
   "cell_type": "markdown",
   "metadata": {},
   "source": [
    "## `POST/fit`: Create an ARCH model and fit the data\n",
    "\n",
    "The following code runs a POST request. This trains an ARCH model and save it in the /models folder.\n",
    "\n",
    "Parameters:\n",
    "- `ticker`: a stock ticker\n",
    "- `n_observations`: the number of past observations to train the model\n",
    "- `p`,`q`: parameters of the ARCH model"
   ]
  },
  {
   "cell_type": "code",
   "execution_count": null,
   "metadata": {},
   "outputs": [
    {
     "ename": "NameError",
     "evalue": "name 'requests' is not defined",
     "output_type": "error",
     "traceback": [
      "\u001b[1;31m---------------------------------------------------------------------------\u001b[0m",
      "\u001b[1;31mNameError\u001b[0m                                 Traceback (most recent call last)",
      "Cell \u001b[1;32mIn[2], line 10\u001b[0m\n\u001b[0;32m      2\u001b[0m url \u001b[38;5;241m=\u001b[39m \u001b[38;5;124m\"\u001b[39m\u001b[38;5;124mhttp://localhost:8008/fit\u001b[39m\u001b[38;5;124m\"\u001b[39m\n\u001b[0;32m      3\u001b[0m json \u001b[38;5;241m=\u001b[39m {\n\u001b[0;32m      4\u001b[0m     \u001b[38;5;124m\"\u001b[39m\u001b[38;5;124mticker\u001b[39m\u001b[38;5;124m\"\u001b[39m:ticker,\n\u001b[0;32m      5\u001b[0m     \u001b[38;5;124m\"\u001b[39m\u001b[38;5;124mn_observations\u001b[39m\u001b[38;5;124m\"\u001b[39m:n_observations,\n\u001b[0;32m      6\u001b[0m     \u001b[38;5;124m\"\u001b[39m\u001b[38;5;124mp\u001b[39m\u001b[38;5;124m\"\u001b[39m:p,\n\u001b[0;32m      7\u001b[0m     \u001b[38;5;124m\"\u001b[39m\u001b[38;5;124mq\u001b[39m\u001b[38;5;124m\"\u001b[39m:q\n\u001b[0;32m      8\u001b[0m }\n\u001b[1;32m---> 10\u001b[0m response \u001b[38;5;241m=\u001b[39m \u001b[43mrequests\u001b[49m\u001b[38;5;241m.\u001b[39mpost(url\u001b[38;5;241m=\u001b[39murl, json\u001b[38;5;241m=\u001b[39mjson)\n\u001b[0;32m     11\u001b[0m \u001b[38;5;28mprint\u001b[39m(response\u001b[38;5;241m.\u001b[39mstatus_code)\n",
      "\u001b[1;31mNameError\u001b[0m: name 'requests' is not defined"
     ]
    }
   ],
   "source": [
    "# Set parameters\n",
    "ticker=\"MTNOY\"\n",
    "n_observations=2500\n",
    "p=3\n",
    "q=1\n",
    "\n",
    "# Call fit endpoint\n",
    "url = \"http://localhost:8008/fit\"\n",
    "json = {\n",
    "    \"ticker\":ticker,\n",
    "    \"n_observations\":n_observations,\n",
    "    \"p\":p,\n",
    "    \"q\":q\n",
    "}\n",
    "\n",
    "response = requests.post(url=url, json=json)\n",
    "print(response.status_code)"
   ]
  },
  {
   "cell_type": "code",
   "execution_count": 20,
   "metadata": {},
   "outputs": [
    {
     "data": {
      "text/plain": [
       "{'ticker': 'MTNOY',\n",
       " 'n_observations': 2500,\n",
       " 'p': 3,\n",
       " 'q': 1,\n",
       " 'success': True,\n",
       " 'message': \"Trained and saved 'models\\\\2025-05-07T16-06-19.385606-ARCH31_MTNOY.pkl'. Metrics: AIC 9901.722499915388, BIC 9935.32791467264.\"}"
      ]
     },
     "execution_count": 20,
     "metadata": {},
     "output_type": "execute_result"
    }
   ],
   "source": [
    "response.json()"
   ]
  },
  {
   "cell_type": "markdown",
   "metadata": {},
   "source": [
    "# POST/predict \n",
    "\n",
    "Gets predictions from the model.\n",
    "\n",
    "Parameters:\n",
    "- ticker: a stock ticker\n",
    "- n_days: number of days to predict\n",
    "- use_model: which model to use (\"latest\" for the latest model in the /models folder)"
   ]
  },
  {
   "cell_type": "code",
   "execution_count": 7,
   "metadata": {},
   "outputs": [
    {
     "name": "stdout",
     "output_type": "stream",
     "text": [
      "200\n"
     ]
    }
   ],
   "source": [
    "# Set parameters\n",
    "ticker=\"MTNOY\"\n",
    "n_days=20\n",
    "use_model = \"latest\"\n",
    "\n",
    "# Call predict API\n",
    "url = \"http://localhost:8008/predict\"\n",
    "json = {\n",
    "    \"ticker\":ticker,\n",
    "    \"n_days\": n_days,\n",
    "    \"use_model\": use_model\n",
    "}\n",
    "\n",
    "response = requests.post(url=url, json=json)\n",
    "print(response.status_code)"
   ]
  },
  {
   "cell_type": "code",
   "execution_count": 8,
   "metadata": {},
   "outputs": [
    {
     "data": {
      "text/plain": [
       "{'ticker': 'MTNOY',\n",
       " 'n_days': 20,\n",
       " 'use_model': 'latest',\n",
       " 'success': True,\n",
       " 'forecast': {'2023-05-09T00:00:00': 2.576530296042725,\n",
       "  '2023-05-10T00:00:00': 2.594167948681509,\n",
       "  '2023-05-11T00:00:00': 2.611105961489171,\n",
       "  '2023-05-12T00:00:00': 2.6273770486757844,\n",
       "  '2023-05-15T00:00:00': 2.6430119630055224,\n",
       "  '2023-05-16T00:00:00': 2.6580396524325556,\n",
       "  '2023-05-17T00:00:00': 2.6724874004387447,\n",
       "  '2023-05-18T00:00:00': 2.6863809523401194,\n",
       "  '2023-05-19T00:00:00': 2.6997446292384435,\n",
       "  '2023-05-22T00:00:00': 2.712601431095382,\n",
       "  '2023-05-23T00:00:00': 2.7249731302000795,\n",
       "  '2023-05-24T00:00:00': 2.73688035612711,\n",
       "  '2023-05-25T00:00:00': 2.7483426731349394,\n",
       "  '2023-05-26T00:00:00': 2.759378650830579,\n",
       "  '2023-05-29T00:00:00': 2.770005928820199,\n",
       "  '2023-05-30T00:00:00': 2.7802412759750386,\n",
       "  '2023-05-31T00:00:00': 2.79010064486448,\n",
       "  '2023-06-01T00:00:00': 2.799599221841523,\n",
       "  '2023-06-02T00:00:00': 2.808751473208502,\n",
       "  '2023-06-05T00:00:00': 2.8175711878411978},\n",
       " 'message': ''}"
      ]
     },
     "execution_count": 8,
     "metadata": {},
     "output_type": "execute_result"
    }
   ],
   "source": [
    "response.json()"
   ]
  }
 ],
 "metadata": {
  "kernelspec": {
   "display_name": "portfolio-venv",
   "language": "python",
   "name": "python3"
  },
  "language_info": {
   "codemirror_mode": {
    "name": "ipython",
    "version": 3
   },
   "file_extension": ".py",
   "mimetype": "text/x-python",
   "name": "python",
   "nbconvert_exporter": "python",
   "pygments_lexer": "ipython3",
   "version": "3.10.16"
  }
 },
 "nbformat": 4,
 "nbformat_minor": 2
}

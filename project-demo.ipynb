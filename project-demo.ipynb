{
 "cells": [
  {
   "cell_type": "markdown",
   "metadata": {},
   "source": [
    "# (Working title)"
   ]
  },
  {
   "cell_type": "markdown",
   "metadata": {},
   "source": [
    "*Some introduction to the project*"
   ]
  },
  {
   "cell_type": "code",
   "execution_count": 1,
   "metadata": {},
   "outputs": [],
   "source": [
    "# Install dependencies\n",
    "\n",
    "%load_ext autoreload\n",
    "%autoreload 2\n",
    "\n",
    "import os\n",
    "import sqlite3\n",
    "from glob import glob\n",
    "\n",
    "import pandas as pd\n",
    "import requests\n",
    "from config import settings\n",
    "from data import SQLRepository, AlphaVantageAPI\n",
    "from model import GarchModel"
   ]
  },
  {
   "cell_type": "code",
   "execution_count": 2,
   "metadata": {},
   "outputs": [],
   "source": [
    "# Set ticker\n",
    "ticker = \"MTNOY\"\n"
   ]
  },
  {
   "cell_type": "markdown",
   "metadata": {},
   "source": [
    "Here's a sample alphavantage API URL: http://alphavantage.co/query?"
   ]
  },
  {
   "cell_type": "code",
   "execution_count": 3,
   "metadata": {},
   "outputs": [
    {
     "name": "stdout",
     "output_type": "stream",
     "text": [
      "<class 'pandas.core.frame.DataFrame'>\n",
      "DatetimeIndex: 4483 entries, 2025-05-06 to 2007-07-13\n",
      "Data columns (total 5 columns):\n",
      " #   Column  Non-Null Count  Dtype  \n",
      "---  ------  --------------  -----  \n",
      " 0   open    4483 non-null   float64\n",
      " 1   high    4483 non-null   float64\n",
      " 2   low     4483 non-null   float64\n",
      " 3   close   4483 non-null   float64\n",
      " 4   volume  4483 non-null   float64\n",
      "dtypes: float64(5)\n",
      "memory usage: 210.1 KB\n"
     ]
    }
   ],
   "source": [
    "# Alphavantage API Class\n",
    "\n",
    "alphavantage = AlphaVantageAPI()\n",
    "stock_data = alphavantage.get_daily(ticker)\n",
    "stock_data.info()"
   ]
  },
  {
   "cell_type": "code",
   "execution_count": 4,
   "metadata": {},
   "outputs": [
    {
     "data": {
      "text/html": [
       "<div>\n",
       "<style scoped>\n",
       "    .dataframe tbody tr th:only-of-type {\n",
       "        vertical-align: middle;\n",
       "    }\n",
       "\n",
       "    .dataframe tbody tr th {\n",
       "        vertical-align: top;\n",
       "    }\n",
       "\n",
       "    .dataframe thead th {\n",
       "        text-align: right;\n",
       "    }\n",
       "</style>\n",
       "<table border=\"1\" class=\"dataframe\">\n",
       "  <thead>\n",
       "    <tr style=\"text-align: right;\">\n",
       "      <th></th>\n",
       "      <th>open</th>\n",
       "      <th>high</th>\n",
       "      <th>low</th>\n",
       "      <th>close</th>\n",
       "      <th>volume</th>\n",
       "    </tr>\n",
       "    <tr>\n",
       "      <th>date</th>\n",
       "      <th></th>\n",
       "      <th></th>\n",
       "      <th></th>\n",
       "      <th></th>\n",
       "      <th></th>\n",
       "    </tr>\n",
       "  </thead>\n",
       "  <tbody>\n",
       "    <tr>\n",
       "      <th>2025-05-06</th>\n",
       "      <td>6.690</td>\n",
       "      <td>6.690</td>\n",
       "      <td>6.610</td>\n",
       "      <td>6.690</td>\n",
       "      <td>2392.0</td>\n",
       "    </tr>\n",
       "    <tr>\n",
       "      <th>2025-05-05</th>\n",
       "      <td>6.470</td>\n",
       "      <td>6.652</td>\n",
       "      <td>6.410</td>\n",
       "      <td>6.565</td>\n",
       "      <td>4108.0</td>\n",
       "    </tr>\n",
       "    <tr>\n",
       "      <th>2025-05-02</th>\n",
       "      <td>6.617</td>\n",
       "      <td>6.840</td>\n",
       "      <td>6.617</td>\n",
       "      <td>6.720</td>\n",
       "      <td>3522.0</td>\n",
       "    </tr>\n",
       "    <tr>\n",
       "      <th>2025-05-01</th>\n",
       "      <td>6.510</td>\n",
       "      <td>6.790</td>\n",
       "      <td>6.510</td>\n",
       "      <td>6.550</td>\n",
       "      <td>4953.0</td>\n",
       "    </tr>\n",
       "    <tr>\n",
       "      <th>2025-04-30</th>\n",
       "      <td>6.570</td>\n",
       "      <td>6.800</td>\n",
       "      <td>6.550</td>\n",
       "      <td>6.605</td>\n",
       "      <td>15987.0</td>\n",
       "    </tr>\n",
       "  </tbody>\n",
       "</table>\n",
       "</div>"
      ],
      "text/plain": [
       "             open   high    low  close   volume\n",
       "date                                           \n",
       "2025-05-06  6.690  6.690  6.610  6.690   2392.0\n",
       "2025-05-05  6.470  6.652  6.410  6.565   4108.0\n",
       "2025-05-02  6.617  6.840  6.617  6.720   3522.0\n",
       "2025-05-01  6.510  6.790  6.510  6.550   4953.0\n",
       "2025-04-30  6.570  6.800  6.550  6.605  15987.0"
      ]
     },
     "execution_count": 4,
     "metadata": {},
     "output_type": "execute_result"
    }
   ],
   "source": [
    "stock_data.head()"
   ]
  },
  {
   "cell_type": "code",
   "execution_count": 5,
   "metadata": {},
   "outputs": [],
   "source": [
    "# Create DB connection\n",
    "connection = sqlite3.connect(database=settings.db_name, check_same_thread=False)"
   ]
  },
  {
   "cell_type": "code",
   "execution_count": 6,
   "metadata": {},
   "outputs": [],
   "source": [
    "# SQL Repository Class\n",
    "repo = SQLRepository(connection)"
   ]
  },
  {
   "cell_type": "code",
   "execution_count": 7,
   "metadata": {},
   "outputs": [
    {
     "name": "stdout",
     "output_type": "stream",
     "text": [
      "Tables in database: [('FDS',), ('MTNOY',)]\n"
     ]
    }
   ],
   "source": [
    "# List tables in the database\n",
    "\n",
    "cursor = connection.cursor()\n",
    "cursor.execute(\"SELECT name FROM sqlite_master WHERE type='table';\")\n",
    "tables = cursor.fetchall()\n",
    "\n",
    "print(\"Tables in database:\", tables)"
   ]
  },
  {
   "cell_type": "code",
   "execution_count": 8,
   "metadata": {},
   "outputs": [
    {
     "data": {
      "text/html": [
       "<div>\n",
       "<style scoped>\n",
       "    .dataframe tbody tr th:only-of-type {\n",
       "        vertical-align: middle;\n",
       "    }\n",
       "\n",
       "    .dataframe tbody tr th {\n",
       "        vertical-align: top;\n",
       "    }\n",
       "\n",
       "    .dataframe thead th {\n",
       "        text-align: right;\n",
       "    }\n",
       "</style>\n",
       "<table border=\"1\" class=\"dataframe\">\n",
       "  <thead>\n",
       "    <tr style=\"text-align: right;\">\n",
       "      <th></th>\n",
       "      <th>open</th>\n",
       "      <th>high</th>\n",
       "      <th>low</th>\n",
       "      <th>close</th>\n",
       "      <th>volume</th>\n",
       "    </tr>\n",
       "    <tr>\n",
       "      <th>date</th>\n",
       "      <th></th>\n",
       "      <th></th>\n",
       "      <th></th>\n",
       "      <th></th>\n",
       "      <th></th>\n",
       "    </tr>\n",
       "  </thead>\n",
       "  <tbody>\n",
       "    <tr>\n",
       "      <th>2025-03-28</th>\n",
       "      <td>450.00</td>\n",
       "      <td>452.080</td>\n",
       "      <td>445.1309</td>\n",
       "      <td>448.76</td>\n",
       "      <td>312797.0</td>\n",
       "    </tr>\n",
       "    <tr>\n",
       "      <th>2025-03-27</th>\n",
       "      <td>442.74</td>\n",
       "      <td>451.120</td>\n",
       "      <td>442.2050</td>\n",
       "      <td>449.23</td>\n",
       "      <td>287525.0</td>\n",
       "    </tr>\n",
       "    <tr>\n",
       "      <th>2025-03-26</th>\n",
       "      <td>441.43</td>\n",
       "      <td>442.990</td>\n",
       "      <td>438.5400</td>\n",
       "      <td>441.24</td>\n",
       "      <td>244285.0</td>\n",
       "    </tr>\n",
       "    <tr>\n",
       "      <th>2025-03-25</th>\n",
       "      <td>435.52</td>\n",
       "      <td>440.760</td>\n",
       "      <td>433.1150</td>\n",
       "      <td>439.40</td>\n",
       "      <td>266005.0</td>\n",
       "    </tr>\n",
       "    <tr>\n",
       "      <th>2025-03-24</th>\n",
       "      <td>435.59</td>\n",
       "      <td>440.570</td>\n",
       "      <td>431.4800</td>\n",
       "      <td>432.11</td>\n",
       "      <td>340045.0</td>\n",
       "    </tr>\n",
       "    <tr>\n",
       "      <th>...</th>\n",
       "      <td>...</td>\n",
       "      <td>...</td>\n",
       "      <td>...</td>\n",
       "      <td>...</td>\n",
       "      <td>...</td>\n",
       "    </tr>\n",
       "    <tr>\n",
       "      <th>2024-06-17</th>\n",
       "      <td>399.79</td>\n",
       "      <td>407.010</td>\n",
       "      <td>399.4900</td>\n",
       "      <td>406.73</td>\n",
       "      <td>339566.0</td>\n",
       "    </tr>\n",
       "    <tr>\n",
       "      <th>2024-06-14</th>\n",
       "      <td>399.70</td>\n",
       "      <td>403.010</td>\n",
       "      <td>399.4400</td>\n",
       "      <td>401.74</td>\n",
       "      <td>204103.0</td>\n",
       "    </tr>\n",
       "    <tr>\n",
       "      <th>2024-06-13</th>\n",
       "      <td>405.07</td>\n",
       "      <td>405.535</td>\n",
       "      <td>399.0900</td>\n",
       "      <td>402.79</td>\n",
       "      <td>162943.0</td>\n",
       "    </tr>\n",
       "    <tr>\n",
       "      <th>2024-06-12</th>\n",
       "      <td>410.25</td>\n",
       "      <td>411.230</td>\n",
       "      <td>404.7300</td>\n",
       "      <td>406.20</td>\n",
       "      <td>182442.0</td>\n",
       "    </tr>\n",
       "    <tr>\n",
       "      <th>2024-06-11</th>\n",
       "      <td>405.56</td>\n",
       "      <td>408.290</td>\n",
       "      <td>403.1600</td>\n",
       "      <td>408.26</td>\n",
       "      <td>237457.0</td>\n",
       "    </tr>\n",
       "  </tbody>\n",
       "</table>\n",
       "<p>200 rows × 5 columns</p>\n",
       "</div>"
      ],
      "text/plain": [
       "              open     high       low   close    volume\n",
       "date                                                   \n",
       "2025-03-28  450.00  452.080  445.1309  448.76  312797.0\n",
       "2025-03-27  442.74  451.120  442.2050  449.23  287525.0\n",
       "2025-03-26  441.43  442.990  438.5400  441.24  244285.0\n",
       "2025-03-25  435.52  440.760  433.1150  439.40  266005.0\n",
       "2025-03-24  435.59  440.570  431.4800  432.11  340045.0\n",
       "...            ...      ...       ...     ...       ...\n",
       "2024-06-17  399.79  407.010  399.4900  406.73  339566.0\n",
       "2024-06-14  399.70  403.010  399.4400  401.74  204103.0\n",
       "2024-06-13  405.07  405.535  399.0900  402.79  162943.0\n",
       "2024-06-12  410.25  411.230  404.7300  406.20  182442.0\n",
       "2024-06-11  405.56  408.290  403.1600  408.26  237457.0\n",
       "\n",
       "[200 rows x 5 columns]"
      ]
     },
     "execution_count": 8,
     "metadata": {},
     "output_type": "execute_result"
    }
   ],
   "source": [
    "# Read table from the database\n",
    "\n",
    "ticker = \"FDS\"\n",
    "output_size=200\n",
    "\n",
    "repo.read_table(ticker, output_size)"
   ]
  },
  {
   "cell_type": "code",
   "execution_count": 9,
   "metadata": {},
   "outputs": [],
   "source": [
    "# GARCH Model Class\n",
    "\n",
    "model = GarchModel(ticker, repo, use_new_data=False)\n"
   ]
  },
  {
   "cell_type": "code",
   "execution_count": 10,
   "metadata": {},
   "outputs": [
    {
     "data": {
      "text/plain": [
       "date\n",
       "2015-04-22    0.000000\n",
       "2015-04-23    0.750836\n",
       "2015-04-24    0.031313\n",
       "2015-04-27   -0.557190\n",
       "2015-04-28    0.654747\n",
       "                ...   \n",
       "2025-03-24   -0.173266\n",
       "2025-03-25    1.687070\n",
       "2025-03-26    0.418753\n",
       "2025-03-27    1.810806\n",
       "2025-03-28   -0.104623\n",
       "Name: return, Length: 2500, dtype: float64"
      ]
     },
     "execution_count": 10,
     "metadata": {},
     "output_type": "execute_result"
    }
   ],
   "source": [
    "# Wrangle data\n",
    "\n",
    "model.wrangle_data(n_observations=2500)\n",
    "model.data"
   ]
  },
  {
   "cell_type": "code",
   "execution_count": 11,
   "metadata": {},
   "outputs": [
    {
     "data": {
      "text/plain": [
       "<bound method ARCHModelResult.summary of                      Constant Mean - GARCH Model Results                      \n",
       "==============================================================================\n",
       "Dep. Variable:                 return   R-squared:                       0.000\n",
       "Mean Model:             Constant Mean   Adj. R-squared:                  0.000\n",
       "Vol Model:                      GARCH   Log-Likelihood:               -3597.16\n",
       "Distribution:                  Normal   AIC:                           7202.32\n",
       "Method:            Maximum Likelihood   BIC:                           7224.73\n",
       "                                        No. Observations:                 2000\n",
       "Date:                Wed, May 07 2025   Df Residuals:                     1999\n",
       "Time:                        15:04:54   Df Model:                            1\n",
       "                                Mean Model                                \n",
       "==========================================================================\n",
       "                 coef    std err          t      P>|t|    95.0% Conf. Int.\n",
       "--------------------------------------------------------------------------\n",
       "mu             0.0970  3.143e-02      3.087  2.023e-03 [3.542e-02,  0.159]\n",
       "                             Volatility Model                             \n",
       "==========================================================================\n",
       "                 coef    std err          t      P>|t|    95.0% Conf. Int.\n",
       "--------------------------------------------------------------------------\n",
       "omega          0.2984      0.149      2.007  4.470e-02 [7.056e-03,  0.590]\n",
       "alpha[1]       0.1961  7.321e-02      2.679  7.383e-03 [5.264e-02,  0.340]\n",
       "beta[1]        0.6987      0.106      6.621  3.559e-11   [  0.492,  0.906]\n",
       "==========================================================================\n",
       "\n",
       "Covariance estimator: robust\n",
       "ARCHModelResult, id: 0x25d98e62860>"
      ]
     },
     "execution_count": 11,
     "metadata": {},
     "output_type": "execute_result"
    }
   ],
   "source": [
    "garch = model.fit(p=1, q=1)\n",
    "\n",
    "garch.summary"
   ]
  },
  {
   "cell_type": "code",
   "execution_count": 12,
   "metadata": {},
   "outputs": [
    {
     "data": {
      "text/plain": [
       "{'2023-03-31T00:00:00': 1.734011971922834,\n",
       " '2023-04-03T00:00:00': 1.7288650846631335,\n",
       " '2023-04-04T00:00:00': 1.7242464816830392,\n",
       " '2023-04-05T00:00:00': 1.7201031134707485,\n",
       " '2023-04-06T00:00:00': 1.7163870325259567}"
      ]
     },
     "execution_count": 12,
     "metadata": {},
     "output_type": "execute_result"
    }
   ],
   "source": [
    "prediction = model.predict_volatility(horizon = 5)\n",
    "prediction"
   ]
  },
  {
   "cell_type": "markdown",
   "metadata": {},
   "source": [
    "Model Deployment"
   ]
  },
  {
   "cell_type": "markdown",
   "metadata": {},
   "source": [
    "Run code using `uvicorn main:app --reload --workers 1 --host localhost --port 8008`"
   ]
  },
  {
   "cell_type": "code",
   "execution_count": 14,
   "metadata": {},
   "outputs": [
    {
     "name": "stdout",
     "output_type": "stream",
     "text": [
      "200\n"
     ]
    }
   ],
   "source": [
    "# Call fit endpoint\n",
    "ticker=\"MTNOY\"\n",
    "\n",
    "url = \"http://localhost:8008/fit\"\n",
    "json = {\n",
    "    \"ticker\":ticker,\n",
    "    \"n_observations\":2500,\n",
    "    \"p\":3,\n",
    "    \"q\":1\n",
    "}\n",
    "\n",
    "response = requests.post(url=url, json=json)\n",
    "print(response.status_code)"
   ]
  },
  {
   "cell_type": "code",
   "execution_count": null,
   "metadata": {},
   "outputs": [
    {
     "name": "stdout",
     "output_type": "stream",
     "text": [
      "200\n"
     ]
    }
   ],
   "source": [
    "# Call predict API\n",
    "ticket=\"MTNOY\"\n",
    "use_model = \"latest\"\n",
    "url = \"http://localhost:8008/predict\"\n",
    "json = {\n",
    "    \"ticker\":ticker,\n",
    "    \"n_days\": 20,\n",
    "    \"use_model\": use_model\n",
    "}\n",
    "\n",
    "response = requests.post(url=url, json=json)\n",
    "print(response.status_code)"
   ]
  },
  {
   "cell_type": "code",
   "execution_count": null,
   "metadata": {},
   "outputs": [
    {
     "data": {
      "text/plain": [
       "{'ticker': 'MTNOY',\n",
       " 'n_days': 20,\n",
       " 'use_model': 'latest',\n",
       " 'success': True,\n",
       " 'forecast': {'2023-04-18T00:00:00': 2.5503659900100137,\n",
       "  '2023-04-19T00:00:00': 2.568940505172743,\n",
       "  '2023-04-20T00:00:00': 2.586781498169194,\n",
       "  '2023-04-21T00:00:00': 2.60392352020055,\n",
       "  '2023-04-24T00:00:00': 2.620399008863531,\n",
       "  '2023-04-25T00:00:00': 2.636238460647659,\n",
       "  '2023-04-26T00:00:00': 2.6514705861586445,\n",
       "  '2023-04-27T00:00:00': 2.6661224491937334,\n",
       "  '2023-04-28T00:00:00': 2.680219591845332,\n",
       "  '2023-05-01T00:00:00': 2.69378614734618,\n",
       "  '2023-05-02T00:00:00': 2.706844942123938,\n",
       "  '2023-05-03T00:00:00': 2.7194175883274885,\n",
       "  '2023-05-04T00:00:00': 2.7315245679144264,\n",
       "  '2023-05-05T00:00:00': 2.743185309243246,\n",
       "  '2023-05-08T00:00:00': 2.7544182569900295,\n",
       "  '2023-05-09T00:00:00': 2.7652409361041936,\n",
       "  '2023-05-10T00:00:00': 2.77567001042797,\n",
       "  '2023-05-11T00:00:00': 2.7857213365273266,\n",
       "  '2023-05-12T00:00:00': 2.7954100132158657,\n",
       "  '2023-05-15T00:00:00': 2.804750427196181},\n",
       " 'message': ''}"
      ]
     },
     "execution_count": 52,
     "metadata": {},
     "output_type": "execute_result"
    }
   ],
   "source": [
    "response.json()"
   ]
  }
 ],
 "metadata": {
  "kernelspec": {
   "display_name": "portfolio-venv",
   "language": "python",
   "name": "python3"
  },
  "language_info": {
   "codemirror_mode": {
    "name": "ipython",
    "version": 3
   },
   "file_extension": ".py",
   "mimetype": "text/x-python",
   "name": "python",
   "nbconvert_exporter": "python",
   "pygments_lexer": "ipython3",
   "version": "3.10.16"
  }
 },
 "nbformat": 4,
 "nbformat_minor": 2
}
